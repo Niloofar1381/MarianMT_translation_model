{
  "nbformat": 4,
  "nbformat_minor": 0,
  "metadata": {
    "colab": {
      "provenance": []
    },
    "kernelspec": {
      "name": "python3",
      "display_name": "Python 3"
    },
    "language_info": {
      "name": "python"
    }
  },
  "cells": [
    {
      "cell_type": "markdown",
      "source": [
        "To create a Python script that translates the text from one language to another using the MarianMT model, you can follow these steps. This script will read a text file containing the source language text, translate it using the MarianMT model, and then save the translated text into another text file."
      ],
      "metadata": {
        "id": "bdM4JSWARVZp"
      }
    },
    {
      "cell_type": "markdown",
      "source": [
        "1. Install the necessary packages:\n",
        "\n",
        "Make sure you have the transformers library installed. You can install it using pip if you haven't done so already:"
      ],
      "metadata": {
        "id": "KOg3EMdDRcqB"
      }
    },
    {
      "cell_type": "code",
      "source": [
        "!pip install transformers"
      ],
      "metadata": {
        "id": "J-fBkBAjRfS5"
      },
      "execution_count": null,
      "outputs": []
    },
    {
      "cell_type": "markdown",
      "source": [
        "2. Create the translation script:\n",
        "\n",
        "Below is the Python script that reads text from a file, translates it using the MarianMT model, and then writes the translated text to a new file."
      ],
      "metadata": {
        "id": "q6u0YO8kRs3K"
      }
    },
    {
      "cell_type": "code",
      "source": [
        "from transformers import MarianMTModel, MarianTokenizer\n",
        "\n",
        "def translate_text(input_file, output_file, model_name=\"Helsinki-NLP/opus-mt-en-roa\"):\n",
        "    # Load the model and tokenizer\n",
        "    tokenizer = MarianTokenizer.from_pretrained(model_name)\n",
        "    model = MarianMTModel.from_pretrained(model_name)\n",
        "\n",
        "    # Read the input text from the file\n",
        "    with open(input_file, \"r\", encoding=\"utf-8\") as file:\n",
        "        text = file.read()\n",
        "\n",
        "    # Tokenize the input text\n",
        "    inputs = tokenizer(text, return_tensors=\"pt\", padding=True, truncation=True)\n",
        "\n",
        "    # Generate translation using the model\n",
        "    translated = model.generate(**inputs)\n",
        "\n",
        "    # Decode the translated tokens into text\n",
        "    translated_text = tokenizer.decode(translated[0], skip_special_tokens=True)\n",
        "\n",
        "    # Write the translated text to the output file\n",
        "    with open(output_file, \"w\", encoding=\"utf-8\") as file:\n",
        "        file.write(translated_text)\n",
        "\n",
        "    print(f\"Translation completed. Translated text saved to {output_file}\")\n",
        "\n",
        "# Specify the input and output files\n",
        "input_file = \"input_text.txt\"\n",
        "output_file = \"translated_text.txt\"\n",
        "\n",
        "# Call the translate_text function\n",
        "translate_text(input_file, output_file)\n"
      ],
      "metadata": {
        "id": "MTaQXd-hRt15"
      },
      "execution_count": null,
      "outputs": []
    },
    {
      "cell_type": "markdown",
      "source": [
        "3. Explanation of the code:\n",
        "\n",
        "* translate_text function: This function takes the path of the input file, output file, and the model name as arguments. It loads the MarianMT model and tokenizer, reads the text from the input file, translates it, and saves the translated text to the output file.\n",
        "\n",
        "* Model and tokenizer: The MarianMT model and tokenizer are loaded using the from_pretrained method. You specified Helsinki-NLP/opus-mt-en-roa as the model, which translates from English to Romance languages.\n",
        "\n",
        "* Reading and writing files: The script reads the text from input_text.txt and writes the translated text to translated_text.txt."
      ],
      "metadata": {
        "id": "nnHrytyoR8Vp"
      }
    },
    {
      "cell_type": "markdown",
      "source": [
        "4. Usage:\n",
        "\n",
        "* Input File: Create a text file named input_text.txt with the text you want to translate.\n",
        "* Run the Script: Run the script, and it will generate a translated_text.txt file containing the translated text."
      ],
      "metadata": {
        "id": "VKs1_vPnSLpK"
      }
    },
    {
      "cell_type": "markdown",
      "source": [
        "5. Run the script:\n",
        "\n",
        "Save the script as translate.py, and run it in your terminal or command prompt:"
      ],
      "metadata": {
        "id": "VwQHQBykSUHt"
      }
    },
    {
      "cell_type": "code",
      "source": [
        "python translate.py"
      ],
      "metadata": {
        "id": "G0j7J2UGSWGJ"
      },
      "execution_count": null,
      "outputs": []
    }
  ]
}